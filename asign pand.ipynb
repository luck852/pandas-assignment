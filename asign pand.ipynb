{
 "cells": [
  {
   "cell_type": "code",
   "execution_count": 3,
   "id": "c60dd5a7-322e-41fb-ab2a-1c0adad54d2f",
   "metadata": {},
   "outputs": [],
   "source": [
    "import pandas as pd"
   ]
  },
  {
   "cell_type": "code",
   "execution_count": 5,
   "id": "ac69c060-cd6d-4805-bd47-3ed9134abd0a",
   "metadata": {},
   "outputs": [
    {
     "name": "stdout",
     "output_type": "stream",
     "text": [
      "0     4\n",
      "1     8\n",
      "2    15\n",
      "3    16\n",
      "4    23\n",
      "5    42\n",
      "dtype: int64\n"
     ]
    }
   ],
   "source": [
    "data =[4,8,15,16,23,42]\n",
    "df=pd.Series(data)\n",
    "print(df)\n"
   ]
  },
  {
   "cell_type": "code",
   "execution_count": 8,
   "id": "af8906f9-ce27-431e-b33b-77c7fcff10ef",
   "metadata": {},
   "outputs": [
    {
     "name": "stdout",
     "output_type": "stream",
     "text": [
      "0         1\n",
      "1     house\n",
      "2         3\n",
      "3       owl\n",
      "4       ice\n",
      "5     night\n",
      "6      mare\n",
      "7         8\n",
      "8     apple\n",
      "9    height\n",
      "dtype: object\n"
     ]
    }
   ],
   "source": [
    "d=[1,\"house\",3,\"owl\",\"ice\",\"night\",\"mare\",8,'apple','height']\n",
    "d2=pd.Series(d)\n",
    "print(d2)"
   ]
  },
  {
   "cell_type": "code",
   "execution_count": 19,
   "id": "3e6191f6-6483-477a-b876-eccb215b5dd1",
   "metadata": {},
   "outputs": [
    {
     "name": "stdout",
     "output_type": "stream",
     "text": [
      "     Name  Age  Gender\n",
      "0   Alice   25  female\n",
      "1     Bob   30    Male\n",
      "2  Claire   27  Female\n"
     ]
    }
   ],
   "source": [
    "d3={\n",
    " \"Name\" :['Alice' ,\"Bob\", \"Claire\"],\n",
    " \"Age\" : [25,30,27],\n",
    "  \"Gender\": [\"female\",\"Male\",\"Female\"]\n",
    "\n",
    "}\n",
    "\n",
    "new=pd.DataFrame(d3)\n",
    "print(new)"
   ]
  },
  {
   "cell_type": "raw",
   "id": "42f68291-be8f-459b-9113-2bfeb6eee240",
   "metadata": {},
   "source": [
    "# A Pandas DataFrame is a 2 dimensional data structure, like a 2 dimensional array, or a table with rows and columns.\n",
    "# DataFrame is different from pyhton series like\n",
    "     Pandas Series                   DataFrame\n",
    "      \n",
    "    One_dimensional                  Two_dimensional\n",
    "    Homogeneous(Series Elements      Heterogeneous(Dataframe elements have \n",
    "    must be same data type)           different data type)"
   ]
  },
  {
   "cell_type": "raw",
   "id": "533091e2-893c-4889-8972-6a86569a85f6",
   "metadata": {},
   "source": [
    "Example 1: Remove Column from pandas DataFrame.\n",
    "Example 2: Add New Column to pandas DataFrame.\n",
    "Example 3: Merge Two pandas DataFrames.\n",
    "Example 4: Rename Columns of pandas DataFrame.\n",
    "Example 5: Remove Row from pandas DataFrame.\n",
    "Example 6: Add New Row to pandas DataFrame."
   ]
  },
  {
   "cell_type": "code",
   "execution_count": 21,
   "id": "e5d21fc7-05b7-42d4-80a4-bee2db035def",
   "metadata": {},
   "outputs": [
    {
     "name": "stdout",
     "output_type": "stream",
     "text": [
      "  x1  x2 x3  x4\n",
      "0  x  15  a  20\n",
      "1  y  16  b  18\n",
      "2  x  17  c  16\n",
      "3  y  18  d  14\n",
      "4  x  19  e  12\n",
      "5  x  20  f  10\n"
     ]
    }
   ],
   "source": [
    "data = pd.DataFrame({\"x1\":[\"x\", \"y\", \"x\", \"y\", \"x\", \"x\"],  # Create pandas DataFrame\n",
    "                     \"x2\":range(15, 21),\n",
    "                     \"x3\":[\"a\", \"b\", \"c\", \"d\", \"e\", \"f\"],\n",
    "                     \"x4\":range(20, 8, - 2)})\n",
    "print(data)"
   ]
  },
  {
   "cell_type": "code",
   "execution_count": 22,
   "id": "7b7b9432-2623-4ca1-bffe-86d02687a080",
   "metadata": {},
   "outputs": [
    {
     "name": "stdout",
     "output_type": "stream",
     "text": [
      "  x1  x2  x4\n",
      "0  x  15  20\n",
      "1  y  16  18\n",
      "2  x  17  16\n",
      "3  y  18  14\n",
      "4  x  19  12\n",
      "5  x  20  10\n"
     ]
    }
   ],
   "source": [
    "data_drop = data.drop(\"x3\", axis = 1)\n",
    "print(data_drop)"
   ]
  },
  {
   "cell_type": "code",
   "execution_count": 29,
   "id": "dda90fa7-44d1-466e-b417-e2fb846cf160",
   "metadata": {},
   "outputs": [
    {
     "name": "stdout",
     "output_type": "stream",
     "text": [
      "  x1  x2 x3  x4  x5\n",
      "0  x  15  a  20  34\n",
      "1  y  16  b  18  56\n",
      "2  x  17  c  16  56\n",
      "3  y  18  d  14  78\n",
      "4  x  19  e  12  78\n",
      "5  x  20  f  10  89\n"
     ]
    }
   ],
   "source": [
    "x5=[34,56,56,78,78,89]\n",
    "data_add= data.assign(x5=x5)\n",
    "print(data_add)"
   ]
  },
  {
   "cell_type": "code",
   "execution_count": null,
   "id": "9fecefc6-685e-4a69-9d64-100361dea836",
   "metadata": {},
   "outputs": [],
   "source": [
    "#DataFrame is mutable , Series is immutable. \n"
   ]
  },
  {
   "cell_type": "code",
   "execution_count": null,
   "id": "46d8e81d-0aa5-4d44-bdc1-3455697dfdc3",
   "metadata": {},
   "outputs": [],
   "source": []
  }
 ],
 "metadata": {
  "kernelspec": {
   "display_name": "Python 3 (ipykernel)",
   "language": "python",
   "name": "python3"
  },
  "language_info": {
   "codemirror_mode": {
    "name": "ipython",
    "version": 3
   },
   "file_extension": ".py",
   "mimetype": "text/x-python",
   "name": "python",
   "nbconvert_exporter": "python",
   "pygments_lexer": "ipython3",
   "version": "3.10.8"
  }
 },
 "nbformat": 4,
 "nbformat_minor": 5
}
